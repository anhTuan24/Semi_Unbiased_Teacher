{
  "cells": [
    {
      "cell_type": "markdown",
      "metadata": {
        "id": "PTBvwf0LoYgv"
      },
      "source": [
        "# Unbiased Teacher for custom dataset"
      ]
    },
    {
      "cell_type": "markdown",
      "metadata": {
        "id": "qWuQEpVbodlu"
      },
      "source": [
        "\n",
        "This notebook is intened as an example for custom datesets with no annotations for the unlabelled images.\n",
        "\n",
        "\n",
        "**Instructions**\n",
        "\n",
        "1.   Register dataset.\n",
        "\n",
        "To do so, add the following code to train_net.py:\n",
        "\n",
        "```\n",
        "from detectron2.data.datasets import register_coco_instances\n",
        "\n",
        "register_coco_instances(\"***YOR DATASET NAME***\", {}, \"***PATH TO ANNOTATION JSON FILE***\", \"***PATH TO IMG FOLDER***\")\n",
        "```\n",
        "\n",
        "Do so for both training and validation datasets. Training dataset should include both labeled and unlabeled images.\n",
        "\n",
        "Replace this code in `unbiased-teacher/ubteacher/data/build.py`:\n",
        "```\n",
        "# read from pre-generated data seed\n",
        "    with open(random_data_seed_path) as COCO_sup_file:\n",
        "        coco_random_idx = json.load(COCO_sup_file)\n",
        "\n",
        "labeled_idx = np.array(coco_random_idx[str(SupPercent)][str(random_data_seed)])\n",
        "```\n",
        "With:\n",
        "`labeled_idx = np.array([i for i in range(1, num_label+1)])`\n",
        "\n",
        "Please note that in order for this code to work, labelled images must come first in your custom dataset. If you do not know how to do that:\n",
        "\n",
        "Load both labelled and unlabelled images in an annotation software, that can export COCO format annotations (e.g CVAT). Make sure that labelled images are loaded first. Export annotations in COCO format.\n",
        "\n",
        "2.   Create a config file with your dataset, number of classes, annotation percent:\n",
        "\n",
        "```\n",
        "DATASETS:\n",
        "  CROSS_DATASET: False\n",
        "  TRAIN: (\"***YOR TRAIN DATASET NAME***\",)\n",
        "  TEST: (\"***YOR TEST DATASET NAME***\",)\n",
        "```\n",
        "```\n",
        " ROI_HEADS:\n",
        "    NAME: \"StandardROIHeadsPseudoLab\"\n",
        "    LOSS: \"FocalLoss\"\n",
        "    NUM_CLASSES: 1\n",
        "```\n",
        "```\n",
        "DATALOADER:\n",
        "  SUP_PERCENT: 10.0\n",
        "```\n",
        "\n",
        "A good idea would be to make a copy of `unbiased-teacher/configs/coco_supervision/faster_rcnn_R_50_FPN_sup1_run1.yaml` and replace it with your required parameters. The ones mentioned above are the ones that are required, feel free to change others aswell. SUP_PERCENT must be calculated yourself. With an incorrect SUP_PERCENT incorrect amount of images will be loaded as labeled and unlabeled.\n",
        "\n"
      ]
    },
    {
      "cell_type": "markdown",
      "metadata": {
        "id": "sOM2nw3QvT3k"
      },
      "source": [
        "## 0. Setup"
      ]
    },
    {
      "cell_type": "code",
      "execution_count": null,
      "metadata": {
        "id": "Fi31JODC1z0g"
      },
      "outputs": [],
      "source": [
        "import os\n",
        "from google.colab import drive\n",
        "\n",
        "drive.mount('/content/gdrive')"
      ]
    },
    {
      "cell_type": "code",
      "execution_count": null,
      "metadata": {
        "id": "KoDztFnaTUms"
      },
      "outputs": [],
      "source": [
        "!git clone https://github.com/gustavsma/unbiased-teacher.git\n"
      ]
    },
    {
      "cell_type": "code",
      "source": [
        "!python -m pip install 'git+https://github.com/facebookresearch/detectron2.git'"
      ],
      "metadata": {
        "id": "KKoVe-tVsiVr"
      },
      "execution_count": null,
      "outputs": []
    },
    {
      "cell_type": "markdown",
      "metadata": {
        "id": "nfYr9znKzdmS"
      },
      "source": [
        "## 1. Training"
      ]
    },
    {
      "cell_type": "markdown",
      "metadata": {
        "id": "H15YS_4YSfWW"
      },
      "source": [
        "**BASE:**"
      ]
    },
    {
      "cell_type": "code",
      "execution_count": null,
      "metadata": {
        "id": "cjezmB-TgWOU"
      },
      "outputs": [],
      "source": [
        "%%bash\n",
        "cd /content/unbiased-teacher\n",
        "python train_net.py \\\n",
        "      --num-gpus 1 \\\n",
        "      --config configs/coco_supervision/custom_base.yaml"
      ]
    },
    {
      "cell_type": "markdown",
      "metadata": {
        "id": "VCwNtYAML9W6"
      },
      "source": [
        "**SSL:**"
      ]
    },
    {
      "cell_type": "code",
      "execution_count": null,
      "metadata": {
        "id": "7MWlevLbmEuZ"
      },
      "outputs": [],
      "source": [
        "%%bash\n",
        "cd /content/unbiased-teacher\n",
        "python train_net.py \\\n",
        "      --num-gpus 1 \\\n",
        "      --config configs/coco_supervision/custom_ssl.yaml"
      ]
    },
    {
      "cell_type": "markdown",
      "metadata": {
        "id": "Kq8gtnu6Sipx"
      },
      "source": [
        "**RESUME:**"
      ]
    },
    {
      "cell_type": "code",
      "execution_count": null,
      "metadata": {
        "id": "G3-xPhtnRSps"
      },
      "outputs": [],
      "source": [
        "%%bash\n",
        "cd /content/unbiased-teacher\n",
        "python train_net.py \\\n",
        "      --resume \\\n",
        "      --num-gpus 1 \\\n",
        "      --config configs/coco_supervision/custom_ssl.yaml \\\n",
        "      MODEL.WEIGHTS output/model_final.pth"
      ]
    },
    {
      "cell_type": "markdown",
      "metadata": {
        "id": "fpkYcyyuzknR"
      },
      "source": [
        "## 2. Eval"
      ]
    },
    {
      "cell_type": "code",
      "execution_count": null,
      "metadata": {
        "id": "isBLwgnyyiQK"
      },
      "outputs": [],
      "source": [
        "%%bash\n",
        "cd /content/unbiased-teacher\n",
        "python train_net.py \\\n",
        "      --eval-only \\\n",
        "      --num-gpus 1 \\\n",
        "      --config configs/coco_supervision/weeds_ssl.yaml \\\n",
        "      MODEL.WEIGHTS output/model_best.pth"
      ]
    },
    {
      "cell_type": "markdown",
      "metadata": {
        "id": "d2LYiAvrzn44"
      },
      "source": [
        "## 3. Inference"
      ]
    },
    {
      "cell_type": "code",
      "source": [
        "from detectron2.data.datasets import register_coco_instances\n",
        "\n",
        "register_coco_instances(\"YOUR_TRAIN_DATASET\", {}, \"***PATH TO ANNOTATION JSON FILE***\", \"***PATH TO IMG FOLDER***\")\n",
        "register_coco_instances(\"YOUR_TEST_DATASET\", {}, \"***PATH TO ANNOTATION JSON FILE***\", \"***PATH TO IMG FOLDER***\")"
      ],
      "metadata": {
        "id": "Os6AB_4ICBUx"
      },
      "execution_count": null,
      "outputs": []
    },
    {
      "cell_type": "code",
      "source": [
        "from detectron2.config import get_cfg\n",
        "\n",
        "cfg = get_cfg()\n",
        "\n",
        "cfg.merge_from_file(\"/content/unbiased-teacher/configs/Base-RCNN-FPN.yaml\")\n",
        "cfg.MODEL.WEIGHTS = os.path.join(\"/content/unbiased-teacher/output/model_best.pth\")\n",
        "cfg.MODEL.ROI_HEADS.NUM_CLASSES = 1\n",
        "cfg.MODEL.ROI_HEADS.SCORE_THRESH_TEST = 0.50   # Testing threshold\n",
        "cfg.DATASETS.TRAIN = (\"YOUR_TRAIN_DATASET\", )\n",
        "cfg.DATASETS.TEST = (\"YOUR_TEST_DATASET\", )"
      ],
      "metadata": {
        "id": "dmrbSCjSFsYZ"
      },
      "execution_count": null,
      "outputs": []
    },
    {
      "cell_type": "code",
      "source": [
        "%cd /content/gdrive/MyDrive/unbiased-teacher\n",
        "\n",
        "from detectron2.data import DatasetCatalog\n",
        "import cv2, random\n",
        "from google.colab.patches import cv2_imshow\n",
        "from detectron2.utils.visualizer import Visualizer\n",
        "from ubteacher.engine.trainer import CustomPredictor\n",
        "\n",
        "dataset_dicts = DatasetCatalog.get(\"YOUR_TEST_DATASET\")\n",
        "predictor = CustomPredictor(cfg)\n",
        "\n",
        "for d in random.sample(dataset_dicts, 2):    \n",
        "    im = cv2.imread(d[\"file_name\"])\n",
        "    outputs = predictor(im) \n",
        "    v = Visualizer(im[:, :, ::-1],\n",
        "                   scale=1\n",
        "    )\n",
        "    out = v.draw_instance_predictions(outputs[\"instances\"].to(\"cpu\"))\n",
        "    cv2_imshow(out.get_image()[:, :, ::-1])"
      ],
      "metadata": {
        "id": "0cgdaNCy2QUN"
      },
      "execution_count": null,
      "outputs": []
    }
  ],
  "metadata": {
    "colab": {
      "collapsed_sections": [
        "fpkYcyyuzknR"
      ],
      "machine_shape": "hm",
      "name": "UB_Teacher.ipynb",
      "provenance": []
    },
    "kernelspec": {
      "display_name": "Python 3",
      "name": "python3"
    },
    "language_info": {
      "name": "python"
    },
    "accelerator": "GPU"
  },
  "nbformat": 4,
  "nbformat_minor": 0
}